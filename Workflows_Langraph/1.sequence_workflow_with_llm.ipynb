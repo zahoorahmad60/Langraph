{
 "cells": [
  {
   "cell_type": "code",
   "execution_count": 32,
   "id": "8efa5092",
   "metadata": {},
   "outputs": [],
   "source": [
    "from langgraph.graph import StateGraph, START, END\n",
    "from typing import TypedDict\n",
    "from langchain_ollama import ChatOllama\n",
    "#from langchain_core import PrompTemplate"
   ]
  },
  {
   "cell_type": "code",
   "execution_count": 33,
   "id": "72f61aa1",
   "metadata": {},
   "outputs": [],
   "source": [
    "model = ChatOllama(model=\"deepseek-r1:1.5b\")"
   ]
  },
  {
   "cell_type": "code",
   "execution_count": 34,
   "id": "f2036c4a",
   "metadata": {},
   "outputs": [],
   "source": [
    "class Simplellm(TypedDict):\n",
    "    question: str\n",
    "    answer: str\n"
   ]
  },
  {
   "cell_type": "code",
   "execution_count": 35,
   "id": "56526cc9",
   "metadata": {},
   "outputs": [],
   "source": [
    "def llm_qa(state: Simplellm) -> Simplellm:\n",
    "\n",
    "    question = state['question'] \n",
    "\n",
    "    prompt = \"answer this question in a correct way {question}\"\n",
    "\n",
    "    state['answer'] = model.invoke(prompt).content\n",
    "\n",
    "    return state\n"
   ]
  },
  {
   "cell_type": "code",
   "execution_count": 36,
   "id": "39933883",
   "metadata": {},
   "outputs": [],
   "source": [
    "# defining the graph\n",
    "graph = StateGraph(Simplellm)"
   ]
  },
  {
   "cell_type": "code",
   "execution_count": 37,
   "id": "a33d5f64",
   "metadata": {},
   "outputs": [
    {
     "data": {
      "text/plain": [
       "<langgraph.graph.state.StateGraph at 0x1b6a96a20d0>"
      ]
     },
     "execution_count": 37,
     "metadata": {},
     "output_type": "execute_result"
    }
   ],
   "source": [
    "# adding nodes\n",
    "graph.add_node('llm_qa',llm_qa)"
   ]
  },
  {
   "cell_type": "code",
   "execution_count": 38,
   "id": "0203e859",
   "metadata": {},
   "outputs": [
    {
     "data": {
      "text/plain": [
       "<langgraph.graph.state.StateGraph at 0x1b6a96a20d0>"
      ]
     },
     "execution_count": 38,
     "metadata": {},
     "output_type": "execute_result"
    }
   ],
   "source": [
    "# adding edges\n",
    "graph.add_edge(START,'llm_qa')\n",
    "graph.add_edge('llm_qa',END)"
   ]
  },
  {
   "cell_type": "code",
   "execution_count": 39,
   "id": "2200ef32",
   "metadata": {},
   "outputs": [],
   "source": [
    "#compilling graph\n",
    "workflow = graph.compile()"
   ]
  },
  {
   "cell_type": "code",
   "execution_count": null,
   "id": "90cb318c",
   "metadata": {},
   "outputs": [
    {
     "name": "stdout",
     "output_type": "stream",
     "text": [
      "{'question': 'Name the asian cricket teams', 'answer': '<think>\\nOkay, so I\\'m trying to answer the question \"What is 2 + 3?\" Hmm, where do I even start? Well, addition is something that comes up pretty often, but I guess I should think about it step by step.\\n\\nFirst, I remember learning in school that when you add numbers, you combine their values. So if I have two apples and someone gives me three more, how many apples do I have in total? That makes sense because addition is just putting things together.\\n\\nLet\\'s see, 2 plus 3. I could count out two items, maybe like blocks or coins, and then add three more. If I put those all together, how many do I have now? Let me visualize that: if I line up the two objects first, that\\'s one, two. Then adding three more makes it five altogether. Yeah, that seems right.\\n\\nWait, could there be a different way to approach this problem? Maybe using other methods like number lines or fingers. If I start at 2 and count up three more: 3, 4, 5. That also gives me five. Okay, so whether I use physical objects, counting on my fingers, or visualizing it on a number line, I end up with the same answer.\\n\\nI wonder if there are any exceptions or special cases where addition isn\\'t just about combining numbers. For example, what if one of them is negative? Like 2 plus (-3). That would be... Hmm, maybe not positive anymore. So that\\'s more advanced. But in this case, both numbers are positive, so it\\'s straightforward.\\n\\nAnother thought: how does this apply to bigger numbers or larger quantities? If I have 10 cookies and someone gives me another 5, do I just add them together to get 15? Yeah, that makes sense because addition scales up the quantity regardless of the size. It doesn\\'t matter if it\\'s small or large; you can always combine them.\\n\\nWhat about zero? Adding zero to any number shouldn\\'t change the value. So 2 plus 0 is still 2. That seems logical because adding nothing should leave things as they are. Similarly, 3 plus 0 would also be 3. So that\\'s another confirmation.\\n\\nI\\'m trying to think if there are real-life scenarios where understanding addition of small numbers like this is important. Maybe when cooking and I need to measure ingredients—adding one cup plus two cups would give me three cups total. Or when counting money: having $2 and receiving $3 more makes it easier to know how much I have in total.\\n\\nWait, what if the numbers are larger? Like 100 + 50? That should be 150. Yeah, that\\'s correct because you\\'re combining two groups of items into a single total. It just gets bigger as the numbers increase.\\n\\nIs there any situation where addition doesn\\'t work like this? I don\\'t think so unless we\\'re dealing with negative numbers or something else, but in basic arithmetic, it seems to be consistent.\\n\\nI guess another way to look at it is through visual aids. If I have two shapes and add three more, how many do I have now? It\\'s five. That helps me see that addition is just combining objects regardless of their type or size.\\n\\nSo putting all this together, whether using physical items, counting on fingers, a number line, or applying it to real-life situations like cooking or money, the result is always 5 for 2 + 3. It\\'s consistent across different methods, so I feel confident that my answer is correct.\\n</think>\\n\\nThe sum of 2 and 3 is 5. This can be determined by combining the values of two groups: starting with two items and adding three more results in a total of five items. This applies to various real-life scenarios such as counting objects, money, or cooking ingredients, all yielding the same result.\\n\\n**Step-by-Step Explanation:**\\n\\n1. **Identify the Numbers to Add:** We have 2 and 3.\\n2. **Combine the Values:** Start with two items, then add three more.\\n3. **Result of Combination:** The total is five items.\\n4. **Apply to Real-Life Scenarios:** This applies to scenarios like counting objects, money, or cooking ingredients, all resulting in a consistent sum.\\n\\n**Answer:** 2 + 3 equals 5.'}\n"
     ]
    }
   ],
   "source": [
    "#execute the graph\n",
    "initial_state = {'question':\"Name the asian cricket teams\"}\n",
    "final_state = workflow.invoke(initial_state)\n",
    "print(final_state['answer'])"
   ]
  },
  {
   "cell_type": "code",
   "execution_count": 41,
   "id": "514afacf",
   "metadata": {},
   "outputs": [
    {
     "data": {
      "image/png": "[encoded data removed]",
      "text/plain": [
       "<IPython.core.display.Image object>"
      ]
     },
     "execution_count": 41,
     "metadata": {},
     "output_type": "execute_result"
    }
   ],
   "source": [
    "from IPython.display import Image\n",
    "Image(workflow.get_graph().draw_mermaid_png())"
   ]
  },
  {
   "cell_type": "code",
   "execution_count": null,
   "id": "51e81894",
   "metadata": {},
   "outputs": [],
   "source": []
  }
 ],
 "metadata": {
  "kernelspec": {
   "display_name": "venv",
   "language": "python",
   "name": "python3"
  },
  "language_info": {
   "codemirror_mode": {
    "name": "ipython",
    "version": 3
   },
   "file_extension": ".py",
   "mimetype": "text/x-python",
   "name": "python",
   "nbconvert_exporter": "python",
   "pygments_lexer": "ipython3",
   "version": "3.13.3"
  }
 },
 "nbformat": 4,
 "nbformat_minor": 5
}
