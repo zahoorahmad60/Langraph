{
 "cells": [
  {
   "cell_type": "code",
   "execution_count": 10,
   "id": "8efa5092",
   "metadata": {},
   "outputs": [],
   "source": [
    "from langgraph.graph import StateGraph, START, END\n",
    "from typing import TypedDict\n",
    "from langchain_ollama import ChatOllama\n",
    "#from langchain_core import PrompTemplate"
   ]
  },
  {
   "cell_type": "code",
   "execution_count": 11,
   "id": "72f61aa1",
   "metadata": {},
   "outputs": [],
   "source": [
    "model = ChatOllama(model=\"deepseek-r1:1.5b\")"
   ]
  },
  {
   "cell_type": "code",
   "execution_count": 16,
   "id": "f2036c4a",
   "metadata": {},
   "outputs": [],
   "source": [
    "class Simplellm(TypedDict):\n",
    "    question: str\n",
    "    answer: str\n"
   ]
  },
  {
   "cell_type": "code",
   "execution_count": 18,
   "id": "56526cc9",
   "metadata": {},
   "outputs": [],
   "source": [
    "def llm_qa(state: Simplellm) -> Simplellm:\n",
    "    pass\n"
   ]
  },
  {
   "cell_type": "code",
   "execution_count": 19,
   "id": "39933883",
   "metadata": {},
   "outputs": [],
   "source": [
    "# defining the graph\n",
    "graph = StateGraph(Simplellm)"
   ]
  },
  {
   "cell_type": "code",
   "execution_count": 20,
   "id": "a33d5f64",
   "metadata": {},
   "outputs": [
    {
     "data": {
      "text/plain": [
       "<langgraph.graph.state.StateGraph at 0x1b6a9649e80>"
      ]
     },
     "execution_count": 20,
     "metadata": {},
     "output_type": "execute_result"
    }
   ],
   "source": [
    "# adding nodes\n",
    "graph.add_node('llm_qa',llm_qa)"
   ]
  },
  {
   "cell_type": "code",
   "execution_count": null,
   "id": "0203e859",
   "metadata": {},
   "outputs": [],
   "source": [
    "# adding edges\n",
    "graph.add_edge(START,'llm_qa')\n",
    "grapg.add_edge('llm_qa',END)"
   ]
  }
 ],
 "metadata": {
  "kernelspec": {
   "display_name": "venv",
   "language": "python",
   "name": "python3"
  },
  "language_info": {
   "codemirror_mode": {
    "name": "ipython",
    "version": 3
   },
   "file_extension": ".py",
   "mimetype": "text/x-python",
   "name": "python",
   "nbconvert_exporter": "python",
   "pygments_lexer": "ipython3",
   "version": "3.13.3"
  }
 },
 "nbformat": 4,
 "nbformat_minor": 5
}
