{
 "cells": [
  {
   "cell_type": "code",
   "execution_count": 16,
   "id": "5f60c74b",
   "metadata": {},
   "outputs": [],
   "source": [
    "from langgraph.graph import StateGraph, START, END\n",
    "from typing import TypedDict\n"
   ]
  },
  {
   "cell_type": "code",
   "execution_count": null,
   "id": "583b0123",
   "metadata": {},
   "outputs": [],
   "source": [
    "#define state\n",
    "class BMIState(TypedDict):\n",
    "    weight_kg: float\n",
    "    height_kg: float\n",
    "    bmi: float\n",
    "    category: str"
   ]
  },
  {
   "cell_type": "code",
   "execution_count": 14,
   "id": "35fa6620",
   "metadata": {},
   "outputs": [],
   "source": [
    "def calculate_bmi(state: BMIState)-> BMIState:\n",
    "    weight = state[\"weight_kg\"]\n",
    "    height = state[\"height_kg\"]\n",
    "\n",
    "    bmi = weight/(height**2)\n",
    "\n",
    "    state[\"bmi\"] = round(bmi,2)\n",
    "\n",
    "    return state\n"
   ]
  },
  {
   "cell_type": "code",
   "execution_count": 23,
   "id": "6fa6403b",
   "metadata": {},
   "outputs": [],
   "source": [
    "def Label_bmi(state: BMIState) -> BMIState:\n",
    "\n",
    "    bmi = state['bmi']\n",
    "\n",
    "    if bmi < 18.5:\n",
    "        state[\"category\"] = \"Underweight\"\n",
    "    elif 18.5 <= bmi < 25:\n",
    "        state[\"category\"] = \"Normal\"\n",
    "    elif 25 <= bmi < 30:\n",
    "        state[\"category\"] = \"Overweight\"\n",
    "    else:\n",
    "        state[\"category\"] = \"Obese\"\n",
    "\n",
    "    return state\n",
    "\n"
   ]
  },
  {
   "cell_type": "code",
   "execution_count": 24,
   "id": "dd5e2ef3",
   "metadata": {},
   "outputs": [],
   "source": [
    "#define graph\n",
    "graph = StateGraph(BMIState)\n",
    "\n",
    "#add nodes to your graph\n",
    "graph.add_node(\"calculate_bmi\",calculate_bmi)\n",
    "graph.add_node(\"Label_bmi\",Label_bmi)\n",
    "#add edges to the graph\n",
    "graph.add_edge(START,'calculate_bmi')\n",
    "graph.add_edge('calculate_bmi','Label_bmi')\n",
    "graph.add_edge('Label_bmi',END)\n",
    "# compile the graph\n",
    "workflow = graph.compile()\n",
    "\n"
   ]
  },
  {
   "cell_type": "code",
   "execution_count": 25,
   "id": "120e44ca",
   "metadata": {},
   "outputs": [
    {
     "name": "stdout",
     "output_type": "stream",
     "text": [
      "{'weight_kg': 80, 'height_kg': 1.73, 'bmi': 26.73}\n"
     ]
    }
   ],
   "source": [
    "#execute the graph\n",
    "initial_state = {'weight_kg':80, 'height_kg':1.73}\n",
    "final_state = workflow.invoke(initial_state)\n",
    "print(final_state)"
   ]
  },
  {
   "cell_type": "code",
   "execution_count": 22,
   "id": "1b39d377",
   "metadata": {},
   "outputs": [
    {
     "data": {
      "image/png": "[encoded data removed]",
      "text/plain": [
       "<IPython.core.display.Image object>"
      ]
     },
     "execution_count": 22,
     "metadata": {},
     "output_type": "execute_result"
    }
   ],
   "source": [
    "from IPython.display import Image\n",
    "Image(workflow.get_graph().draw_mermaid_png())"
   ]
  },
  {
   "cell_type": "code",
   "execution_count": null,
   "id": "aed1d41a",
   "metadata": {},
   "outputs": [],
   "source": []
  }
 ],
 "metadata": {
  "kernelspec": {
   "display_name": "venv",
   "language": "python",
   "name": "python3"
  },
  "language_info": {
   "codemirror_mode": {
    "name": "ipython",
    "version": 3
   },
   "file_extension": ".py",
   "mimetype": "text/x-python",
   "name": "python",
   "nbconvert_exporter": "python",
   "pygments_lexer": "ipython3",
   "version": "3.13.3"
  }
 },
 "nbformat": 4,
 "nbformat_minor": 5
}
